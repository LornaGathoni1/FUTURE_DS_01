{
 "cells": [
  {
   "cell_type": "code",
   "execution_count": 3,
   "id": "4df1a65b-3bb0-4d16-8c24-32d6ef18476d",
   "metadata": {},
   "outputs": [
    {
     "name": "stdout",
     "output_type": "stream",
     "text": [
      "Requirement already satisfied: imbalanced-learn in c:\\users\\user\\appdata\\local\\programs\\python\\python312\\lib\\site-packages (0.13.0)\n",
      "Requirement already satisfied: numpy<3,>=1.24.3 in c:\\users\\user\\appdata\\local\\programs\\python\\python312\\lib\\site-packages (from imbalanced-learn) (1.26.4)\n",
      "Requirement already satisfied: scipy<2,>=1.10.1 in c:\\users\\user\\appdata\\local\\programs\\python\\python312\\lib\\site-packages (from imbalanced-learn) (1.14.1)\n",
      "Requirement already satisfied: scikit-learn<2,>=1.3.2 in c:\\users\\user\\appdata\\local\\programs\\python\\python312\\lib\\site-packages (from imbalanced-learn) (1.3.2)\n",
      "Requirement already satisfied: sklearn-compat<1,>=0.1 in c:\\users\\user\\appdata\\local\\programs\\python\\python312\\lib\\site-packages (from imbalanced-learn) (0.1.3)\n",
      "Requirement already satisfied: joblib<2,>=1.1.1 in c:\\users\\user\\appdata\\local\\programs\\python\\python312\\lib\\site-packages (from imbalanced-learn) (1.4.2)\n",
      "Requirement already satisfied: threadpoolctl<4,>=2.0.0 in c:\\users\\user\\appdata\\local\\programs\\python\\python312\\lib\\site-packages (from imbalanced-learn) (3.5.0)\n"
     ]
    },
    {
     "name": "stderr",
     "output_type": "stream",
     "text": [
      "\n",
      "[notice] A new release of pip is available: 24.3.1 -> 25.0.1\n",
      "[notice] To update, run: python.exe -m pip install --upgrade pip\n"
     ]
    }
   ],
   "source": [
    "#Install imbalanced-learn library (needed for SMOTE to handle class imbalance)\n",
    "!pip install imbalanced-learn"
   ]
  },
  {
   "cell_type": "markdown",
   "id": "71527d32-dcdb-4ce7-a54f-09869820355c",
   "metadata": {},
   "source": [
    "## Importing necessary libraries ##"
   ]
  },
  {
   "cell_type": "code",
   "execution_count": 4,
   "id": "20f2f9b2-806b-46a9-92e5-ad63db3acba7",
   "metadata": {},
   "outputs": [],
   "source": [
    "import numpy as np\n",
    "import pandas as pd\n",
    "import re\n",
    "from nltk.corpus import stopwords\n",
    "from nltk.stem.porter import PorterStemmer\n",
    "from sklearn.feature_extraction.text import TfidfVectorizer\n",
    "from sklearn.model_selection import train_test_split\n",
    "from sklearn.linear_model import LogisticRegression\n",
    "from sklearn.metrics import accuracy_score\n",
    "import warnings\n",
    "import matplotlib.pyplot as plt\n",
    "import seaborn as sns"
   ]
  },
  {
   "cell_type": "code",
   "execution_count": 5,
   "id": "6d3beade-2b65-427e-8b64-676778707fb3",
   "metadata": {},
   "outputs": [],
   "source": [
    "warnings.filterwarnings('ignore')"
   ]
  },
  {
   "cell_type": "markdown",
   "id": "53e1806e-5494-4d26-9e1a-de0b5cbec2b7",
   "metadata": {},
   "source": [
    "## Data loading ##"
   ]
  },
  {
   "cell_type": "code",
   "execution_count": 7,
   "id": "81203549-bc7a-4a7f-89b5-8520ec15aa43",
   "metadata": {},
   "outputs": [
    {
     "data": {
      "text/html": [
       "<div>\n",
       "<style scoped>\n",
       "    .dataframe tbody tr th:only-of-type {\n",
       "        vertical-align: middle;\n",
       "    }\n",
       "\n",
       "    .dataframe tbody tr th {\n",
       "        vertical-align: top;\n",
       "    }\n",
       "\n",
       "    .dataframe thead th {\n",
       "        text-align: right;\n",
       "    }\n",
       "</style>\n",
       "<table border=\"1\" class=\"dataframe\">\n",
       "  <thead>\n",
       "    <tr style=\"text-align: right;\">\n",
       "      <th></th>\n",
       "      <th>Text</th>\n",
       "      <th>Sentiment</th>\n",
       "      <th>Timestamp</th>\n",
       "      <th>User</th>\n",
       "      <th>Platform</th>\n",
       "      <th>Hashtags</th>\n",
       "      <th>Retweets</th>\n",
       "      <th>Likes</th>\n",
       "      <th>Country</th>\n",
       "      <th>Year</th>\n",
       "      <th>Month</th>\n",
       "      <th>Day</th>\n",
       "      <th>Hour</th>\n",
       "      <th>Sentiment_Categorized</th>\n",
       "      <th>Sentiment_Categorized_Num</th>\n",
       "      <th>processed_text</th>\n",
       "      <th>Word_Frequency</th>\n",
       "    </tr>\n",
       "  </thead>\n",
       "  <tbody>\n",
       "    <tr>\n",
       "      <th>0</th>\n",
       "      <td>Enjoying a beautiful day at the park!        ...</td>\n",
       "      <td>Positive</td>\n",
       "      <td>2023-01-15 12:30:00</td>\n",
       "      <td>User123</td>\n",
       "      <td>Twitter</td>\n",
       "      <td>#Nature #Park</td>\n",
       "      <td>15.0</td>\n",
       "      <td>30.0</td>\n",
       "      <td>USA</td>\n",
       "      <td>2023</td>\n",
       "      <td>1</td>\n",
       "      <td>15</td>\n",
       "      <td>12</td>\n",
       "      <td>Positive</td>\n",
       "      <td>2</td>\n",
       "      <td>enjoying beautiful day park</td>\n",
       "      <td>4</td>\n",
       "    </tr>\n",
       "    <tr>\n",
       "      <th>1</th>\n",
       "      <td>Traffic was terrible this morning.           ...</td>\n",
       "      <td>Negative</td>\n",
       "      <td>2023-01-15 08:45:00</td>\n",
       "      <td>CommuterX</td>\n",
       "      <td>Twitter</td>\n",
       "      <td>#Traffic #Morning</td>\n",
       "      <td>5.0</td>\n",
       "      <td>10.0</td>\n",
       "      <td>Canada</td>\n",
       "      <td>2023</td>\n",
       "      <td>1</td>\n",
       "      <td>15</td>\n",
       "      <td>8</td>\n",
       "      <td>Negative</td>\n",
       "      <td>0</td>\n",
       "      <td>traffic terrible morning</td>\n",
       "      <td>3</td>\n",
       "    </tr>\n",
       "    <tr>\n",
       "      <th>2</th>\n",
       "      <td>Just finished an amazing workout! 💪          ...</td>\n",
       "      <td>Positive</td>\n",
       "      <td>2023-01-15 15:45:00</td>\n",
       "      <td>FitnessFan</td>\n",
       "      <td>Instagram</td>\n",
       "      <td>#Fitness #Workout</td>\n",
       "      <td>20.0</td>\n",
       "      <td>40.0</td>\n",
       "      <td>USA</td>\n",
       "      <td>2023</td>\n",
       "      <td>1</td>\n",
       "      <td>15</td>\n",
       "      <td>15</td>\n",
       "      <td>Positive</td>\n",
       "      <td>2</td>\n",
       "      <td>finished amazing workout</td>\n",
       "      <td>3</td>\n",
       "    </tr>\n",
       "    <tr>\n",
       "      <th>3</th>\n",
       "      <td>Excited about the upcoming weekend getaway!  ...</td>\n",
       "      <td>Positive</td>\n",
       "      <td>2023-01-15 18:20:00</td>\n",
       "      <td>AdventureX</td>\n",
       "      <td>Facebook</td>\n",
       "      <td>#Travel #Adventure</td>\n",
       "      <td>8.0</td>\n",
       "      <td>15.0</td>\n",
       "      <td>UK</td>\n",
       "      <td>2023</td>\n",
       "      <td>1</td>\n",
       "      <td>15</td>\n",
       "      <td>18</td>\n",
       "      <td>Positive</td>\n",
       "      <td>2</td>\n",
       "      <td>excited upcoming weekend getaway</td>\n",
       "      <td>4</td>\n",
       "    </tr>\n",
       "    <tr>\n",
       "      <th>4</th>\n",
       "      <td>Trying out a new recipe for dinner tonight.  ...</td>\n",
       "      <td>Neutral</td>\n",
       "      <td>2023-01-15 19:55:00</td>\n",
       "      <td>ChefCook</td>\n",
       "      <td>Instagram</td>\n",
       "      <td>#Cooking #Food</td>\n",
       "      <td>12.0</td>\n",
       "      <td>25.0</td>\n",
       "      <td>Australia</td>\n",
       "      <td>2023</td>\n",
       "      <td>1</td>\n",
       "      <td>15</td>\n",
       "      <td>19</td>\n",
       "      <td>Neutral</td>\n",
       "      <td>1</td>\n",
       "      <td>trying new recipe dinner tonight</td>\n",
       "      <td>5</td>\n",
       "    </tr>\n",
       "  </tbody>\n",
       "</table>\n",
       "</div>"
      ],
      "text/plain": [
       "                                                Text    Sentiment  \\\n",
       "0   Enjoying a beautiful day at the park!        ...   Positive     \n",
       "1   Traffic was terrible this morning.           ...   Negative     \n",
       "2   Just finished an amazing workout! 💪          ...   Positive     \n",
       "3   Excited about the upcoming weekend getaway!  ...   Positive     \n",
       "4   Trying out a new recipe for dinner tonight.  ...   Neutral      \n",
       "\n",
       "             Timestamp            User     Platform  \\\n",
       "0  2023-01-15 12:30:00   User123          Twitter     \n",
       "1  2023-01-15 08:45:00   CommuterX        Twitter     \n",
       "2  2023-01-15 15:45:00   FitnessFan      Instagram    \n",
       "3  2023-01-15 18:20:00   AdventureX       Facebook    \n",
       "4  2023-01-15 19:55:00   ChefCook        Instagram    \n",
       "\n",
       "                                     Hashtags  Retweets  Likes       Country  \\\n",
       "0   #Nature #Park                                  15.0   30.0     USA         \n",
       "1   #Traffic #Morning                               5.0   10.0     Canada      \n",
       "2   #Fitness #Workout                              20.0   40.0   USA           \n",
       "3   #Travel #Adventure                              8.0   15.0     UK          \n",
       "4   #Cooking #Food                                 12.0   25.0    Australia    \n",
       "\n",
       "   Year  Month  Day  Hour Sentiment_Categorized  Sentiment_Categorized_Num  \\\n",
       "0  2023      1   15    12              Positive                          2   \n",
       "1  2023      1   15     8              Negative                          0   \n",
       "2  2023      1   15    15              Positive                          2   \n",
       "3  2023      1   15    18              Positive                          2   \n",
       "4  2023      1   15    19               Neutral                          1   \n",
       "\n",
       "                     processed_text  Word_Frequency  \n",
       "0       enjoying beautiful day park               4  \n",
       "1          traffic terrible morning               3  \n",
       "2          finished amazing workout               3  \n",
       "3  excited upcoming weekend getaway               4  \n",
       "4  trying new recipe dinner tonight               5  "
      ]
     },
     "execution_count": 7,
     "metadata": {},
     "output_type": "execute_result"
    }
   ],
   "source": [
    "# Define file path\n",
    "file_path = r\"C:\\Users\\user\\Desktop\\Future Interns\\Sentiment analysis\\sentimentdataset.csv\"\n",
    "\n",
    "# Load dataset without unnecessary unnamed columns\n",
    "df = pd.read_csv(file_path)\n",
    "\n",
    "# Remove unnamed columns explicitly if they exist\n",
    "df = df.loc[:, ~df.columns.str.startswith('Unnamed')]\n",
    "\n",
    "# Display first few rows\n",
    "df.head()\n"
   ]
  },
  {
   "cell_type": "code",
   "execution_count": 8,
   "id": "54fb7389-925c-438b-9bbd-6f9030564836",
   "metadata": {},
   "outputs": [
    {
     "name": "stdout",
     "output_type": "stream",
     "text": [
      "['Text', 'Sentiment', 'Timestamp', 'User', 'Platform', 'Hashtags', 'Retweets', 'Likes', 'Country', 'Year', 'Month', 'Day', 'Hour', 'Sentiment_Categorized', 'Sentiment_Categorized_Num', 'processed_text', 'Word_Frequency']\n"
     ]
    }
   ],
   "source": [
    "column_names = df.columns.tolist()\n",
    "print(column_names)\n"
   ]
  },
  {
   "cell_type": "code",
   "execution_count": 9,
   "id": "3736fa04-7fbb-4812-bb81-3535cb8c6ae0",
   "metadata": {},
   "outputs": [
    {
     "data": {
      "text/plain": [
       "(712, 17)"
      ]
     },
     "execution_count": 9,
     "metadata": {},
     "output_type": "execute_result"
    }
   ],
   "source": [
    "df.shape"
   ]
  },
  {
   "cell_type": "markdown",
   "id": "9ccf017c-723b-4c83-895d-43041a11d580",
   "metadata": {},
   "source": [
    "## Data Cleaning ##"
   ]
  },
  {
   "cell_type": "code",
   "execution_count": 10,
   "id": "f4de498b-cdd9-4164-ade7-d7760961b893",
   "metadata": {},
   "outputs": [
    {
     "data": {
      "text/plain": [
       "Text                         0\n",
       "Sentiment                    0\n",
       "Timestamp                    0\n",
       "User                         0\n",
       "Platform                     0\n",
       "Hashtags                     0\n",
       "Retweets                     0\n",
       "Likes                        0\n",
       "Country                      0\n",
       "Year                         0\n",
       "Month                        0\n",
       "Day                          0\n",
       "Hour                         0\n",
       "Sentiment_Categorized        0\n",
       "Sentiment_Categorized_Num    0\n",
       "processed_text               0\n",
       "Word_Frequency               0\n",
       "dtype: int64"
      ]
     },
     "execution_count": 10,
     "metadata": {},
     "output_type": "execute_result"
    }
   ],
   "source": [
    "# Check for missing values in each column\n",
    "df.isnull().sum()"
   ]
  },
  {
   "cell_type": "code",
   "execution_count": 11,
   "id": "be678f48-6da4-47ad-b63c-62962df1a8f9",
   "metadata": {},
   "outputs": [],
   "source": [
    "# Drop duplicate rows\n",
    "df = df.drop_duplicates()"
   ]
  },
  {
   "cell_type": "markdown",
   "id": "3aeb800a-3380-4f10-86e8-d3629747e8cf",
   "metadata": {},
   "source": [
    "## Sentiment Classification ##"
   ]
  },
  {
   "cell_type": "code",
   "execution_count": 12,
   "id": "ce34c035-12a3-4ea6-aa10-b74c29cdc053",
   "metadata": {},
   "outputs": [
    {
     "data": {
      "text/plain": [
       "Sentiment\n",
       "Positive           44\n",
       "Joy                42\n",
       "Excitement         32\n",
       "Neutral            14\n",
       "Happy              14\n",
       "                   ..\n",
       "Dazzle              1\n",
       "Adrenaline          1\n",
       "Harmony             1\n",
       "ArtisticBurst       1\n",
       "Elegance            1\n",
       "Name: count, Length: 279, dtype: int64"
      ]
     },
     "execution_count": 12,
     "metadata": {},
     "output_type": "execute_result"
    }
   ],
   "source": [
    "df['Sentiment'].value_counts()"
   ]
  },
  {
   "cell_type": "code",
   "execution_count": 13,
   "id": "4ea73233-bb77-431f-b507-2e9b6cdcda24",
   "metadata": {},
   "outputs": [
    {
     "name": "stdout",
     "output_type": "stream",
     "text": [
      "[' Positive  ' ' Negative  ' ' Neutral   ' ' Anger        '\n",
      " ' Fear         ' ' Sadness      ' ' Disgust      ' ' Happiness    '\n",
      " ' Joy          ' ' Love         ' ' Amusement    ' ' Enjoyment    '\n",
      " ' Admiration   ' ' Affection    ' ' Awe          ' ' Disappointed '\n",
      " ' Surprise     ' ' Acceptance   ' ' Adoration    ' ' Anticipation '\n",
      " ' Bitter       ' ' Calmness     ' ' Confusion    ' ' Excitement   '\n",
      " ' Kind         ' ' Pride        ' ' Shame        ' ' Confusion '\n",
      " ' Excitement ' ' Shame ' ' Elation       ' ' Euphoria      '\n",
      " ' Contentment   ' ' Serenity      ' ' Gratitude     ' ' Hope          '\n",
      " ' Empowerment   ' ' Compassion    ' ' Tenderness    ' ' Arousal       '\n",
      " ' Enthusiasm    ' ' Fulfillment  ' ' Reverence     ' ' Compassion'\n",
      " ' Fulfillment   ' ' Reverence ' ' Elation   ' ' Despair         '\n",
      " ' Grief           ' ' Loneliness      ' ' Jealousy        '\n",
      " ' Resentment      ' ' Frustration     ' ' Boredom         '\n",
      " ' Anxiety         ' ' Intimidation    ' ' Helplessness    '\n",
      " ' Envy            ' ' Regret         ' ' Disgust         '\n",
      " ' Despair      ' ' Loneliness ' ' Frustration ' ' Anxiety   '\n",
      " ' Intimidation ' ' Helplessness ' ' Jealousy    ' ' Curiosity       '\n",
      " ' Indifference    ' ' Confusion       ' ' Numbness        '\n",
      " ' Melancholy      ' ' Nostalgia       ' ' Ambivalence     '\n",
      " ' Acceptance      ' ' Determination   ' ' Serenity        ' ' Numbness '\n",
      " ' Zest ' ' Contentment ' ' Hopeful ' ' Proud ' ' Grateful '\n",
      " ' Empathetic ' ' Compassionate ' ' Playful ' ' Free-spirited '\n",
      " ' Inspired ' ' Confident ' ' Serenity ' ' Curiosity ' ' Ambivalence '\n",
      " ' Despair ' ' Bitterness ' ' Yearning ' ' Fearful ' ' Apprehensive '\n",
      " ' Overwhelmed ' ' Jealous ' ' Devastated ' ' Frustrated ' ' Envious '\n",
      " ' Dismissive ' ' Awe           ' ' Determination ' ' Nostalgia      '\n",
      " ' Thrill        ' ' Calmness      ' ' Overwhelmed   ' ' Gratitude   '\n",
      " ' Bittersweet ' ' Curiosity     ' ' Admiration    ' ' Overjoyed     '\n",
      " ' Inspiration   ' ' Motivation    ' ' Amusement     ' ' Contemplation '\n",
      " ' JoyfulReunion ' ' Excitement    ' ' Satisfaction  ' ' Blessed       '\n",
      " ' Anticipation  ' ' Reflection    ' ' Nostalgia     ' ' Appreciation  '\n",
      " ' Confidence    ' ' Surprise      ' ' Accomplishment ' ' Wonderment    '\n",
      " ' Optimism      ' ' Pride         ' ' Happiness     ' ' Curiosity   '\n",
      " ' Enchantment   ' ' Intrigue      ' ' PlayfulJoy    ' ' Mindfulness   '\n",
      " ' DreamChaser   ' ' Elegance ' ' Whimsy        ' ' Pensive '\n",
      " ' Thrill      ' ' Harmony    ' ' Creativity   ' ' Radiance    '\n",
      " ' Wonder     ' ' Rejuvenation ' ' Inspiration ' ' Coziness     '\n",
      " ' Gratitude  ' ' Adventure ' ' Euphoria   ' ' Awe    ' ' Melodic       '\n",
      " ' FestiveJoy    ' ' InnerJourney  ' ' Freedom       ' ' Dazzle        '\n",
      " ' Adrenaline     ' ' Harmony       ' ' ArtisticBurst ' ' Radiance      '\n",
      " ' Wonder       ' ' Inspiration  ' ' CulinaryOdyssey ' ' Euphoria     '\n",
      " ' Curiosity  ' ' Resilience   ' ' Immersion ' ' Nostalgia '\n",
      " ' Spark        ' ' Gratitude    ' ' Marvel       ' ' Serenity   '\n",
      " ' Heartbreak    ' ' Loneliness    ' ' Grief      ' ' Despair   '\n",
      " ' Betrayal      ' ' Suffering ' ' EmotionalStorm ' ' Regret        '\n",
      " ' Isolation ' ' Disappointment ' ' LostLove ' ' Melancholy '\n",
      " ' Exhaustion ' ' Sorrow      ' ' Darkness     ' ' Desperation '\n",
      " ' Ruins      ' ' Desolation ' ' Regret ' ' Grief ' ' Heartbreak '\n",
      " ' Betrayal ' ' Resilience ' ' Sorrow ' ' Loss ' ' Heartache '\n",
      " ' Solitude ' ' Joy ' ' Happiness ' ' Enthusiasm ' ' Gratitude '\n",
      " ' Positivity ' ' Kindness ' ' Friendship ' ' Love ' ' Surprise '\n",
      " ' Success ' ' Thrill ' ' Reflection ' ' Enchantment ' ' Exploration '\n",
      " ' Awe ' ' Amazement ' ' Romance ' ' Captivation ' ' Wonder '\n",
      " ' Tranquility ' ' Grandeur ' ' Emotion ' ' Energy ' ' Celebration '\n",
      " ' Charm ' ' Ecstasy ' ' Hope ' ' Creativity ' ' Colorful ' ' Pride '\n",
      " ' Hypnotic ' ' Connection ' ' Iconic ' ' Euphoria ' ' Journey '\n",
      " ' Engagement ' ' Touched ' ' Suspense ' ' Satisfaction ' ' Admiration '\n",
      " ' Triumph ' ' Heartwarming ' ' Obstacle ' ' Sympathy ' ' Pressure '\n",
      " ' Renewed Effort ' ' Miscalculation ' ' Challenge ' ' Solace '\n",
      " ' Breakthrough ' ' Harmony ' ' Joy in Baking ' ' Envisioning History '\n",
      " ' Imagination ' ' Vibrancy ' ' Mesmerizing ' ' Culinary Adventure '\n",
      " ' Winter Magic ' ' Thrilling Journey ' \" Nature's Beauty \"\n",
      " ' Celestial Wonder ' ' Creative Inspiration ' ' Runway Creativity '\n",
      " \" Ocean's Freedom \" ' Whispers of the Past ' ' Boredom ' ' Indifference '\n",
      " ' Disgust ' ' Relief ' ' Positive ' ' Embarrassed ' ' Mischievous '\n",
      " ' Sad ' ' Hate ' ' Bad ' ' Neutral ' ' Happy ']\n"
     ]
    }
   ],
   "source": [
    "unique_sentiments = df[\"Sentiment\"].unique()\n",
    "print(unique_sentiments)\n"
   ]
  },
  {
   "cell_type": "code",
   "execution_count": 14,
   "id": "63122051-ebe4-40e6-b35f-4a1263d16eae",
   "metadata": {},
   "outputs": [],
   "source": [
    "\n",
    "# Define sentiment categories\n",
    "positive_sentiments = {  \n",
    "    \"Positive\", \"Happy\", \"Happiness\", \"Joy\", \"Love\", \"Amusement\", \"Enjoyment\", \"Admiration\", \"Affection\", \"Awe\", \"Surprise\", \n",
    "    \"Acceptance\", \"Adoration\", \"Anticipation\", \"Calmness\", \"Excitement\", \"Kind\", \"Pride\", \"Elation\", \n",
    "    \"Euphoria\", \"Contentment\", \"Serenity\", \"Gratitude\", \"Hope\", \"Empowerment\", \"Compassion\", \"Tenderness\", \n",
    "    \"Arousal\", \"Enthusiasm\", \"Fulfillment\", \"Reverence\", \"Inspiration\", \"Motivation\", \"Playful\", \n",
    "    \"Free-spirited\", \"Inspired\", \"Confident\", \"Optimism\", \"Accomplishment\", \"Wonderment\", \"Creativity\", \n",
    "    \"Radiance\", \"Harmony\", \"Rejuvenation\", \"Coziness\", \"Adventure\", \"Festive Joy\", \"Freedom\", \"Dazzle\", \n",
    "    \"Artistic Burst\", \"Positivity\", \"Kindness\", \"Friendship\", \"Success\", \"Thrill\", \"Reflection\", \n",
    "    \"Exploration\", \"Romance\", \"Captivation\", \"Celebration\", \"Ecstasy\", \"Connection\", \"Journey\", \n",
    "    \"Engagement\", \"Touched\", \"Triumph\", \"Heartwarming\", \"Breakthrough\", \"Renewed Effort\", \"Solace\", \n",
    "    \"Joy in Baking\", \"Envisioning History\", \"Imagination\", \"Vibrancy\", \"Mesmerizing\", \"Culinary Adventure\", \n",
    "    \"Winter Magic\", \"Thrilling Journey\", \"Nature's Beauty\", \"Celestial Wonder\", \"Creative Inspiration\", \n",
    "    \"Runway Creativity\", \"Ocean's Freedom\", \"Whispers of the Past\"\n",
    "}  \n",
    "\n",
    "negative_sentiments = {  \n",
    "    \"Negative\", \"Anger\", \"Fear\", \"Sadness\", \"Disappointed\", \"Bitter\", \"Shame\", \"Despair\", \"Grief\", \"Loneliness\", \n",
    "    \"Jealousy\", \"Resentment\", \"Frustration\", \"Boredom\", \"Anxiety\", \"Intimidation\", \"Helplessness\", \"Envy\", \n",
    "    \"Regret\", \"Disgust\", \"Confusion\", \"Melancholy\", \"Nostalgia\", \"Ambivalence\", \"Overwhelmed\", \"Devastated\", \n",
    "    \"Bitterness\", \"Yearning\", \"Fearful\", \"Apprehensive\", \"Dismissive\", \"Betrayal\", \"Suffering\", \"Emotional Storm\", \n",
    "    \"Isolation\", \"Lost Love\", \"Exhaustion\", \"Sorrow\", \"Darkness\", \"Desperation\", \"Ruins\", \"Desolation\", \n",
    "    \"Heartache\", \"Solitude\", \"Miscalculation\", \"Pressure\", \"Obstacle\", \"Hate\", \"Bad\", \"Sad\"\n",
    "}  \n",
    "\n",
    "neutral_sentiments = {  \n",
    "    \"Neutral\", \"Indifference\", \"Curiosity\", \"Numbness\", \"Contemplation\", \"Reflection\", \"Satisfaction\", \n",
    "    \"Elegance\", \"Pensive\", \"Suspense\", \"Relief\", \"Embarrassed\", \"Mischievous\", \"Surprise\"\n",
    "}  \n",
    "\n",
    "# Function to classify sentiments\n",
    "def classify_sentiment(sentiment):\n",
    "    sentiment = sentiment.strip()  # Remove spaces\n",
    "    if sentiment in positive_sentiments:\n",
    "        return \"Positive\"\n",
    "    elif sentiment in negative_sentiments:\n",
    "        return \"Negative\"\n",
    "    else:\n",
    "        return \"Neutral\"  # Default to neutral if not found\n",
    "\n",
    "# Apply function to the Sentiment column\n",
    "df['Sentiment_Categorized'] = df['Sentiment'].apply(classify_sentiment)\n"
   ]
  },
  {
   "cell_type": "code",
   "execution_count": 15,
   "id": "6647aca9-b89d-46ba-b58b-5e1d348b3cc2",
   "metadata": {},
   "outputs": [
    {
     "data": {
      "text/plain": [
       "array(['Positive', 'Negative', 'Neutral'], dtype=object)"
      ]
     },
     "execution_count": 15,
     "metadata": {},
     "output_type": "execute_result"
    }
   ],
   "source": [
    "# Check unique values in the new column\n",
    "df['Sentiment_Categorized'].unique()\n"
   ]
  },
  {
   "cell_type": "code",
   "execution_count": 16,
   "id": "175e7144-c28b-4740-a800-927d4b79f292",
   "metadata": {},
   "outputs": [
    {
     "name": "stdout",
     "output_type": "stream",
     "text": [
      "Sentiment_Categorized\n",
      "Positive    381\n",
      "Negative    178\n",
      "Neutral     153\n",
      "Name: count, dtype: int64\n"
     ]
    }
   ],
   "source": [
    "print(df['Sentiment_Categorized'].value_counts())\n"
   ]
  },
  {
   "cell_type": "code",
   "execution_count": 17,
   "id": "18ba2a0b-0471-40ff-b56f-f185a5c41ff5",
   "metadata": {},
   "outputs": [
    {
     "data": {
      "image/png": "[encoded data removed]",
      "text/plain": [
       "<Figure size 800x500 with 1 Axes>"
      ]
     },
     "metadata": {},
     "output_type": "display_data"
    }
   ],
   "source": [
    "# Plot the sentiment distribution\n",
    "plt.figure(figsize=(8, 5))\n",
    "sns.barplot(x=df['Sentiment_Categorized'].value_counts().index, \n",
    "            y=df['Sentiment_Categorized'].value_counts().values, \n",
    "            palette=['green', 'red', 'gray'])\n",
    "\n",
    "# Add labels and title\n",
    "plt.xlabel(\"Sentiment Category\")\n",
    "plt.ylabel(\"Count\")\n",
    "plt.title(\"Sentiment Distribution\")\n",
    "plt.xticks(rotation=0)\n",
    "\n",
    "# Show the plot\n",
    "plt.show()\n"
   ]
  },
  {
   "cell_type": "code",
   "execution_count": 18,
   "id": "afcd00b6-5ece-4a41-abcc-812b4d607295",
   "metadata": {},
   "outputs": [
    {
     "data": {
      "text/html": [
       "<div>\n",
       "<style scoped>\n",
       "    .dataframe tbody tr th:only-of-type {\n",
       "        vertical-align: middle;\n",
       "    }\n",
       "\n",
       "    .dataframe tbody tr th {\n",
       "        vertical-align: top;\n",
       "    }\n",
       "\n",
       "    .dataframe thead th {\n",
       "        text-align: right;\n",
       "    }\n",
       "</style>\n",
       "<table border=\"1\" class=\"dataframe\">\n",
       "  <thead>\n",
       "    <tr style=\"text-align: right;\">\n",
       "      <th></th>\n",
       "      <th>Text</th>\n",
       "      <th>Sentiment</th>\n",
       "      <th>Timestamp</th>\n",
       "      <th>User</th>\n",
       "      <th>Platform</th>\n",
       "      <th>Hashtags</th>\n",
       "      <th>Retweets</th>\n",
       "      <th>Likes</th>\n",
       "      <th>Country</th>\n",
       "      <th>Year</th>\n",
       "      <th>Month</th>\n",
       "      <th>Day</th>\n",
       "      <th>Hour</th>\n",
       "      <th>Sentiment_Categorized</th>\n",
       "      <th>Sentiment_Categorized_Num</th>\n",
       "      <th>processed_text</th>\n",
       "      <th>Word_Frequency</th>\n",
       "    </tr>\n",
       "  </thead>\n",
       "  <tbody>\n",
       "    <tr>\n",
       "      <th>0</th>\n",
       "      <td>Enjoying a beautiful day at the park!        ...</td>\n",
       "      <td>Positive</td>\n",
       "      <td>2023-01-15 12:30:00</td>\n",
       "      <td>User123</td>\n",
       "      <td>Twitter</td>\n",
       "      <td>#Nature #Park</td>\n",
       "      <td>15.0</td>\n",
       "      <td>30.0</td>\n",
       "      <td>USA</td>\n",
       "      <td>2023</td>\n",
       "      <td>1</td>\n",
       "      <td>15</td>\n",
       "      <td>12</td>\n",
       "      <td>Positive</td>\n",
       "      <td>2</td>\n",
       "      <td>enjoying beautiful day park</td>\n",
       "      <td>4</td>\n",
       "    </tr>\n",
       "    <tr>\n",
       "      <th>1</th>\n",
       "      <td>Traffic was terrible this morning.           ...</td>\n",
       "      <td>Negative</td>\n",
       "      <td>2023-01-15 08:45:00</td>\n",
       "      <td>CommuterX</td>\n",
       "      <td>Twitter</td>\n",
       "      <td>#Traffic #Morning</td>\n",
       "      <td>5.0</td>\n",
       "      <td>10.0</td>\n",
       "      <td>Canada</td>\n",
       "      <td>2023</td>\n",
       "      <td>1</td>\n",
       "      <td>15</td>\n",
       "      <td>8</td>\n",
       "      <td>Negative</td>\n",
       "      <td>0</td>\n",
       "      <td>traffic terrible morning</td>\n",
       "      <td>3</td>\n",
       "    </tr>\n",
       "    <tr>\n",
       "      <th>2</th>\n",
       "      <td>Just finished an amazing workout! 💪          ...</td>\n",
       "      <td>Positive</td>\n",
       "      <td>2023-01-15 15:45:00</td>\n",
       "      <td>FitnessFan</td>\n",
       "      <td>Instagram</td>\n",
       "      <td>#Fitness #Workout</td>\n",
       "      <td>20.0</td>\n",
       "      <td>40.0</td>\n",
       "      <td>USA</td>\n",
       "      <td>2023</td>\n",
       "      <td>1</td>\n",
       "      <td>15</td>\n",
       "      <td>15</td>\n",
       "      <td>Positive</td>\n",
       "      <td>2</td>\n",
       "      <td>finished amazing workout</td>\n",
       "      <td>3</td>\n",
       "    </tr>\n",
       "    <tr>\n",
       "      <th>3</th>\n",
       "      <td>Excited about the upcoming weekend getaway!  ...</td>\n",
       "      <td>Positive</td>\n",
       "      <td>2023-01-15 18:20:00</td>\n",
       "      <td>AdventureX</td>\n",
       "      <td>Facebook</td>\n",
       "      <td>#Travel #Adventure</td>\n",
       "      <td>8.0</td>\n",
       "      <td>15.0</td>\n",
       "      <td>UK</td>\n",
       "      <td>2023</td>\n",
       "      <td>1</td>\n",
       "      <td>15</td>\n",
       "      <td>18</td>\n",
       "      <td>Positive</td>\n",
       "      <td>2</td>\n",
       "      <td>excited upcoming weekend getaway</td>\n",
       "      <td>4</td>\n",
       "    </tr>\n",
       "    <tr>\n",
       "      <th>4</th>\n",
       "      <td>Trying out a new recipe for dinner tonight.  ...</td>\n",
       "      <td>Neutral</td>\n",
       "      <td>2023-01-15 19:55:00</td>\n",
       "      <td>ChefCook</td>\n",
       "      <td>Instagram</td>\n",
       "      <td>#Cooking #Food</td>\n",
       "      <td>12.0</td>\n",
       "      <td>25.0</td>\n",
       "      <td>Australia</td>\n",
       "      <td>2023</td>\n",
       "      <td>1</td>\n",
       "      <td>15</td>\n",
       "      <td>19</td>\n",
       "      <td>Neutral</td>\n",
       "      <td>1</td>\n",
       "      <td>trying new recipe dinner tonight</td>\n",
       "      <td>5</td>\n",
       "    </tr>\n",
       "  </tbody>\n",
       "</table>\n",
       "</div>"
      ],
      "text/plain": [
       "                                                Text    Sentiment  \\\n",
       "0   Enjoying a beautiful day at the park!        ...   Positive     \n",
       "1   Traffic was terrible this morning.           ...   Negative     \n",
       "2   Just finished an amazing workout! 💪          ...   Positive     \n",
       "3   Excited about the upcoming weekend getaway!  ...   Positive     \n",
       "4   Trying out a new recipe for dinner tonight.  ...   Neutral      \n",
       "\n",
       "             Timestamp            User     Platform  \\\n",
       "0  2023-01-15 12:30:00   User123          Twitter     \n",
       "1  2023-01-15 08:45:00   CommuterX        Twitter     \n",
       "2  2023-01-15 15:45:00   FitnessFan      Instagram    \n",
       "3  2023-01-15 18:20:00   AdventureX       Facebook    \n",
       "4  2023-01-15 19:55:00   ChefCook        Instagram    \n",
       "\n",
       "                                     Hashtags  Retweets  Likes       Country  \\\n",
       "0   #Nature #Park                                  15.0   30.0     USA         \n",
       "1   #Traffic #Morning                               5.0   10.0     Canada      \n",
       "2   #Fitness #Workout                              20.0   40.0   USA           \n",
       "3   #Travel #Adventure                              8.0   15.0     UK          \n",
       "4   #Cooking #Food                                 12.0   25.0    Australia    \n",
       "\n",
       "   Year  Month  Day  Hour Sentiment_Categorized  Sentiment_Categorized_Num  \\\n",
       "0  2023      1   15    12              Positive                          2   \n",
       "1  2023      1   15     8              Negative                          0   \n",
       "2  2023      1   15    15              Positive                          2   \n",
       "3  2023      1   15    18              Positive                          2   \n",
       "4  2023      1   15    19               Neutral                          1   \n",
       "\n",
       "                     processed_text  Word_Frequency  \n",
       "0       enjoying beautiful day park               4  \n",
       "1          traffic terrible morning               3  \n",
       "2          finished amazing workout               3  \n",
       "3  excited upcoming weekend getaway               4  \n",
       "4  trying new recipe dinner tonight               5  "
      ]
     },
     "execution_count": 18,
     "metadata": {},
     "output_type": "execute_result"
    }
   ],
   "source": [
    "df.head()"
   ]
  },
  {
   "cell_type": "code",
   "execution_count": 19,
   "id": "4d88fb4d-0143-43ee-8f35-2305f10db6d0",
   "metadata": {},
   "outputs": [
    {
     "name": "stdout",
     "output_type": "stream",
     "text": [
      "  Sentiment_Categorized  Sentiment_Categorized_Num\n",
      "0              Positive                          2\n",
      "1              Negative                          0\n",
      "2              Positive                          2\n",
      "3              Positive                          2\n",
      "4               Neutral                          1\n"
     ]
    }
   ],
   "source": [
    "# Map categorical sentiments to numerical values\n",
    "sentiment_mapping = {'Positive': 2, 'Neutral': 1, 'Negative': 0}\n",
    "df['Sentiment_Categorized_Num'] = df['Sentiment_Categorized'].map(sentiment_mapping)\n",
    "\n",
    "# Check if conversion is successful\n",
    "print(df[['Sentiment_Categorized', 'Sentiment_Categorized_Num']].head())\n"
   ]
  },
  {
   "cell_type": "code",
   "execution_count": 20,
   "id": "9aadf9bf-214a-41c3-951e-6b482d033b80",
   "metadata": {},
   "outputs": [
    {
     "data": {
      "text/html": [
       "<div>\n",
       "<style scoped>\n",
       "    .dataframe tbody tr th:only-of-type {\n",
       "        vertical-align: middle;\n",
       "    }\n",
       "\n",
       "    .dataframe tbody tr th {\n",
       "        vertical-align: top;\n",
       "    }\n",
       "\n",
       "    .dataframe thead th {\n",
       "        text-align: right;\n",
       "    }\n",
       "</style>\n",
       "<table border=\"1\" class=\"dataframe\">\n",
       "  <thead>\n",
       "    <tr style=\"text-align: right;\">\n",
       "      <th></th>\n",
       "      <th>Text</th>\n",
       "      <th>Sentiment</th>\n",
       "      <th>Timestamp</th>\n",
       "      <th>User</th>\n",
       "      <th>Platform</th>\n",
       "      <th>Hashtags</th>\n",
       "      <th>Retweets</th>\n",
       "      <th>Likes</th>\n",
       "      <th>Country</th>\n",
       "      <th>Year</th>\n",
       "      <th>Month</th>\n",
       "      <th>Day</th>\n",
       "      <th>Hour</th>\n",
       "      <th>Sentiment_Categorized</th>\n",
       "      <th>Sentiment_Categorized_Num</th>\n",
       "      <th>processed_text</th>\n",
       "      <th>Word_Frequency</th>\n",
       "    </tr>\n",
       "  </thead>\n",
       "  <tbody>\n",
       "    <tr>\n",
       "      <th>0</th>\n",
       "      <td>Enjoying a beautiful day at the park!        ...</td>\n",
       "      <td>Positive</td>\n",
       "      <td>2023-01-15 12:30:00</td>\n",
       "      <td>User123</td>\n",
       "      <td>Twitter</td>\n",
       "      <td>#Nature #Park</td>\n",
       "      <td>15.0</td>\n",
       "      <td>30.0</td>\n",
       "      <td>USA</td>\n",
       "      <td>2023</td>\n",
       "      <td>1</td>\n",
       "      <td>15</td>\n",
       "      <td>12</td>\n",
       "      <td>Positive</td>\n",
       "      <td>2</td>\n",
       "      <td>enjoying beautiful day park</td>\n",
       "      <td>4</td>\n",
       "    </tr>\n",
       "    <tr>\n",
       "      <th>1</th>\n",
       "      <td>Traffic was terrible this morning.           ...</td>\n",
       "      <td>Negative</td>\n",
       "      <td>2023-01-15 08:45:00</td>\n",
       "      <td>CommuterX</td>\n",
       "      <td>Twitter</td>\n",
       "      <td>#Traffic #Morning</td>\n",
       "      <td>5.0</td>\n",
       "      <td>10.0</td>\n",
       "      <td>Canada</td>\n",
       "      <td>2023</td>\n",
       "      <td>1</td>\n",
       "      <td>15</td>\n",
       "      <td>8</td>\n",
       "      <td>Negative</td>\n",
       "      <td>0</td>\n",
       "      <td>traffic terrible morning</td>\n",
       "      <td>3</td>\n",
       "    </tr>\n",
       "    <tr>\n",
       "      <th>2</th>\n",
       "      <td>Just finished an amazing workout! 💪          ...</td>\n",
       "      <td>Positive</td>\n",
       "      <td>2023-01-15 15:45:00</td>\n",
       "      <td>FitnessFan</td>\n",
       "      <td>Instagram</td>\n",
       "      <td>#Fitness #Workout</td>\n",
       "      <td>20.0</td>\n",
       "      <td>40.0</td>\n",
       "      <td>USA</td>\n",
       "      <td>2023</td>\n",
       "      <td>1</td>\n",
       "      <td>15</td>\n",
       "      <td>15</td>\n",
       "      <td>Positive</td>\n",
       "      <td>2</td>\n",
       "      <td>finished amazing workout</td>\n",
       "      <td>3</td>\n",
       "    </tr>\n",
       "    <tr>\n",
       "      <th>3</th>\n",
       "      <td>Excited about the upcoming weekend getaway!  ...</td>\n",
       "      <td>Positive</td>\n",
       "      <td>2023-01-15 18:20:00</td>\n",
       "      <td>AdventureX</td>\n",
       "      <td>Facebook</td>\n",
       "      <td>#Travel #Adventure</td>\n",
       "      <td>8.0</td>\n",
       "      <td>15.0</td>\n",
       "      <td>UK</td>\n",
       "      <td>2023</td>\n",
       "      <td>1</td>\n",
       "      <td>15</td>\n",
       "      <td>18</td>\n",
       "      <td>Positive</td>\n",
       "      <td>2</td>\n",
       "      <td>excited upcoming weekend getaway</td>\n",
       "      <td>4</td>\n",
       "    </tr>\n",
       "    <tr>\n",
       "      <th>4</th>\n",
       "      <td>Trying out a new recipe for dinner tonight.  ...</td>\n",
       "      <td>Neutral</td>\n",
       "      <td>2023-01-15 19:55:00</td>\n",
       "      <td>ChefCook</td>\n",
       "      <td>Instagram</td>\n",
       "      <td>#Cooking #Food</td>\n",
       "      <td>12.0</td>\n",
       "      <td>25.0</td>\n",
       "      <td>Australia</td>\n",
       "      <td>2023</td>\n",
       "      <td>1</td>\n",
       "      <td>15</td>\n",
       "      <td>19</td>\n",
       "      <td>Neutral</td>\n",
       "      <td>1</td>\n",
       "      <td>trying new recipe dinner tonight</td>\n",
       "      <td>5</td>\n",
       "    </tr>\n",
       "  </tbody>\n",
       "</table>\n",
       "</div>"
      ],
      "text/plain": [
       "                                                Text    Sentiment  \\\n",
       "0   Enjoying a beautiful day at the park!        ...   Positive     \n",
       "1   Traffic was terrible this morning.           ...   Negative     \n",
       "2   Just finished an amazing workout! 💪          ...   Positive     \n",
       "3   Excited about the upcoming weekend getaway!  ...   Positive     \n",
       "4   Trying out a new recipe for dinner tonight.  ...   Neutral      \n",
       "\n",
       "             Timestamp            User     Platform  \\\n",
       "0  2023-01-15 12:30:00   User123          Twitter     \n",
       "1  2023-01-15 08:45:00   CommuterX        Twitter     \n",
       "2  2023-01-15 15:45:00   FitnessFan      Instagram    \n",
       "3  2023-01-15 18:20:00   AdventureX       Facebook    \n",
       "4  2023-01-15 19:55:00   ChefCook        Instagram    \n",
       "\n",
       "                                     Hashtags  Retweets  Likes       Country  \\\n",
       "0   #Nature #Park                                  15.0   30.0     USA         \n",
       "1   #Traffic #Morning                               5.0   10.0     Canada      \n",
       "2   #Fitness #Workout                              20.0   40.0   USA           \n",
       "3   #Travel #Adventure                              8.0   15.0     UK          \n",
       "4   #Cooking #Food                                 12.0   25.0    Australia    \n",
       "\n",
       "   Year  Month  Day  Hour Sentiment_Categorized  Sentiment_Categorized_Num  \\\n",
       "0  2023      1   15    12              Positive                          2   \n",
       "1  2023      1   15     8              Negative                          0   \n",
       "2  2023      1   15    15              Positive                          2   \n",
       "3  2023      1   15    18              Positive                          2   \n",
       "4  2023      1   15    19               Neutral                          1   \n",
       "\n",
       "                     processed_text  Word_Frequency  \n",
       "0       enjoying beautiful day park               4  \n",
       "1          traffic terrible morning               3  \n",
       "2          finished amazing workout               3  \n",
       "3  excited upcoming weekend getaway               4  \n",
       "4  trying new recipe dinner tonight               5  "
      ]
     },
     "execution_count": 20,
     "metadata": {},
     "output_type": "execute_result"
    }
   ],
   "source": [
    "df.head()"
   ]
  },
  {
   "cell_type": "markdown",
   "id": "8755495b-d293-448b-a03a-877d72554af5",
   "metadata": {},
   "source": [
    "## Text Preprocessing ##"
   ]
  },
  {
   "cell_type": "code",
   "execution_count": 21,
   "id": "a1da735f-9b32-4d8c-addb-4a4caec6d63c",
   "metadata": {},
   "outputs": [
    {
     "name": "stderr",
     "output_type": "stream",
     "text": [
      "[nltk_data] Downloading package stopwords to\n",
      "[nltk_data]     C:\\Users\\user\\AppData\\Roaming\\nltk_data...\n",
      "[nltk_data]   Package stopwords is already up-to-date!\n",
      "[nltk_data] Downloading package wordnet to\n",
      "[nltk_data]     C:\\Users\\user\\AppData\\Roaming\\nltk_data...\n",
      "[nltk_data]   Package wordnet is already up-to-date!\n"
     ]
    },
    {
     "data": {
      "text/html": [
       "<div>\n",
       "<style scoped>\n",
       "    .dataframe tbody tr th:only-of-type {\n",
       "        vertical-align: middle;\n",
       "    }\n",
       "\n",
       "    .dataframe tbody tr th {\n",
       "        vertical-align: top;\n",
       "    }\n",
       "\n",
       "    .dataframe thead th {\n",
       "        text-align: right;\n",
       "    }\n",
       "</style>\n",
       "<table border=\"1\" class=\"dataframe\">\n",
       "  <thead>\n",
       "    <tr style=\"text-align: right;\">\n",
       "      <th></th>\n",
       "      <th>Text</th>\n",
       "      <th>processed_text</th>\n",
       "    </tr>\n",
       "  </thead>\n",
       "  <tbody>\n",
       "    <tr>\n",
       "      <th>0</th>\n",
       "      <td>Enjoying a beautiful day at the park!        ...</td>\n",
       "      <td>enjoying beautiful day park</td>\n",
       "    </tr>\n",
       "    <tr>\n",
       "      <th>1</th>\n",
       "      <td>Traffic was terrible this morning.           ...</td>\n",
       "      <td>traffic terrible morning</td>\n",
       "    </tr>\n",
       "    <tr>\n",
       "      <th>2</th>\n",
       "      <td>Just finished an amazing workout! 💪          ...</td>\n",
       "      <td>finished amazing workout</td>\n",
       "    </tr>\n",
       "    <tr>\n",
       "      <th>3</th>\n",
       "      <td>Excited about the upcoming weekend getaway!  ...</td>\n",
       "      <td>excited upcoming weekend getaway</td>\n",
       "    </tr>\n",
       "    <tr>\n",
       "      <th>4</th>\n",
       "      <td>Trying out a new recipe for dinner tonight.  ...</td>\n",
       "      <td>trying new recipe dinner tonight</td>\n",
       "    </tr>\n",
       "  </tbody>\n",
       "</table>\n",
       "</div>"
      ],
      "text/plain": [
       "                                                Text  \\\n",
       "0   Enjoying a beautiful day at the park!        ...   \n",
       "1   Traffic was terrible this morning.           ...   \n",
       "2   Just finished an amazing workout! 💪          ...   \n",
       "3   Excited about the upcoming weekend getaway!  ...   \n",
       "4   Trying out a new recipe for dinner tonight.  ...   \n",
       "\n",
       "                     processed_text  \n",
       "0       enjoying beautiful day park  \n",
       "1          traffic terrible morning  \n",
       "2          finished amazing workout  \n",
       "3  excited upcoming weekend getaway  \n",
       "4  trying new recipe dinner tonight  "
      ]
     },
     "execution_count": 21,
     "metadata": {},
     "output_type": "execute_result"
    }
   ],
   "source": [
    "import re\n",
    "import nltk\n",
    "from nltk.corpus import stopwords\n",
    "from nltk.stem import WordNetLemmatizer\n",
    "\n",
    "nltk.download('stopwords')\n",
    "nltk.download('wordnet')\n",
    "\n",
    "lemmatizer = WordNetLemmatizer()\n",
    "\n",
    "# Custom stopwords (keeping negations like \"not\", \"never\")\n",
    "custom_stopwords = {'don', 'ain', 'aren', \"aren't\", 'couldn', \"couldn't\",\n",
    "                    'didn', \"didn't\", 'doesn', \"doesn't\", 'hadn', \"hadn't\", 'hasn', \"hasn't\",\n",
    "                    'haven', \"haven't\", 'isn', \"isn't\", 'ma', 'might', \"mightn't\", 'mustn', \"mustn't\",\n",
    "                    'needn', \"needn't\", 'shan', \"shan't\", 'no', 'nor', 'shouldn', \"shouldn't\",\n",
    "                    'wasn', \"wasn't\", 'weren', \"weren't\", 'won', \"won't\", 'wouldn', \"wouldn't\"}\n",
    "\n",
    "stop_words = set(stopwords.words(\"english\")) - custom_stopwords  # Retain negation words\n",
    "corpus = []\n",
    "\n",
    "for i in range(len(df)):\n",
    "    text = re.sub('[^a-zA-Z]', ' ', df.iloc[i]['Text'])  # Keep only letters\n",
    "    text = text.lower().split()\n",
    "    text = [lemmatizer.lemmatize(word) for word in text if word not in stop_words]  # Lemmatization & stopwords\n",
    "    corpus.append(\" \".join(text))\n",
    "\n",
    "df['processed_text'] = corpus  # Add cleaned text column\n",
    "\n",
    "# Check output\n",
    "df[['Text', 'processed_text']].head()\n"
   ]
  },
  {
   "cell_type": "code",
   "execution_count": 24,
   "id": "e10497ec-0fb6-48dd-9e9b-9c63c9cc8374",
   "metadata": {},
   "outputs": [],
   "source": [
    "# Save cleaned DataFrame to CSV\n",
    "df.to_csv(\"cleaned_trending_topics.csv\", index=False, encoding=\"utf-8\")\n"
   ]
  },
  {
   "cell_type": "code",
   "execution_count": 25,
   "id": "68df4043-03ac-468e-b307-700b3c0eed92",
   "metadata": {},
   "outputs": [
    {
     "name": "stdout",
     "output_type": "stream",
     "text": [
      "Index(['Text', 'Sentiment', 'Timestamp', 'User', 'Platform', 'Hashtags',\n",
      "       'Retweets', 'Likes', 'Country', 'Year', 'Month', 'Day', 'Hour',\n",
      "       'Sentiment_Categorized', 'Sentiment_Categorized_Num', 'processed_text',\n",
      "       'Word_Frequency'],\n",
      "      dtype='object')\n"
     ]
    }
   ],
   "source": [
    "print(df.columns)  # Displays all column names\n"
   ]
  },
  {
   "cell_type": "markdown",
   "id": "9f32a230-865f-4189-b2b1-e2224c598dd0",
   "metadata": {},
   "source": [
    "## Word Frequency Analysis ##"
   ]
  },
  {
   "cell_type": "code",
   "execution_count": 26,
   "id": "47303f8b-d2cc-41f3-839d-003fa3913efe",
   "metadata": {},
   "outputs": [
    {
     "name": "stdout",
     "output_type": "stream",
     "text": [
      "        Word  Frequency\n",
      "16       new         43\n",
      "12      life         35\n",
      "2        day         29\n",
      "10       joy         28\n",
      "6    feeling         27\n",
      "14    moment         27\n",
      "13      like         27\n",
      "7     friend         26\n",
      "8      heart         24\n",
      "3      dream         23\n",
      "17     night         23\n",
      "18      time         22\n",
      "19     world         22\n",
      "0        art         21\n",
      "11  laughter         20\n",
      "1     beauty         20\n",
      "9    journey         20\n",
      "5    emotion         20\n",
      "4       echo         20\n",
      "15    nature         19\n"
     ]
    }
   ],
   "source": [
    "from sklearn.feature_extraction.text import CountVectorizer\n",
    "import pandas as pd\n",
    "\n",
    "# Convert processed text into a list\n",
    "text_data = df['processed_text'].dropna().tolist()\n",
    "\n",
    "# Initialize CountVectorizer\n",
    "vectorizer = CountVectorizer(stop_words='english', max_features=20)  # Top 20 words\n",
    "X = vectorizer.fit_transform(text_data)\n",
    "\n",
    "# Get word frequency\n",
    "word_freq = pd.DataFrame({'Word': vectorizer.get_feature_names_out(), 'Frequency': X.toarray().sum(axis=0)})\n",
    "word_freq = word_freq.sort_values(by='Frequency', ascending=False)\n",
    "\n",
    "# Display top words\n",
    "print(word_freq)\n"
   ]
  },
  {
   "cell_type": "code",
   "execution_count": 27,
   "id": "09089bbf-2872-4d8c-b9d7-b90ee50aa410",
   "metadata": {},
   "outputs": [
    {
     "name": "stdout",
     "output_type": "stream",
     "text": [
      "Updated dataset saved with Word_Frequency column!\n"
     ]
    }
   ],
   "source": [
    "from collections import Counter\n",
    "import pandas as pd\n",
    "\n",
    "# Load existing cleaned data\n",
    "df = pd.read_csv(\"cleaned_trending_topics.csv\")\n",
    "\n",
    "# Function to count words in each row\n",
    "def count_words(text):\n",
    "    words = text.split()\n",
    "    return len(words)\n",
    "\n",
    "# Apply word count function to 'processed_text' column\n",
    "df[\"Word_Frequency\"] = df[\"processed_text\"].apply(count_words)\n",
    "\n",
    "# Save updated dataset (overwrite existing file)\n",
    "df.to_csv(\"cleaned_trending_topics.csv\", index=False, encoding=\"utf-8\")\n",
    "\n",
    "print(\"Updated dataset saved with Word_Frequency column!\")\n"
   ]
  },
  {
   "cell_type": "markdown",
   "id": "5a94c923-18b0-4c39-837d-be87272ea02b",
   "metadata": {},
   "source": [
    "## Topic Modeling using LatentDirichletAllocation ##"
   ]
  },
  {
   "cell_type": "code",
   "execution_count": 28,
   "id": "ed2a7188-9312-48c3-b43e-0b8bdd2733fb",
   "metadata": {},
   "outputs": [
    {
     "name": "stdout",
     "output_type": "stream",
     "text": [
      "Topic 1:  ['life', 'friend', 'echo', 'heart', 'laughter', 'joy', 'night', 'dream', 'moment', 'emotion']\n",
      "Topic 2:  ['joy', 'feeling', 'moment', 'art', 'laughter', 'time', 'friend', 'beauty', 'day', 'life']\n",
      "Topic 3:  ['day', 'time', 'emotion', 'beauty', 'nature', 'moment', 'feeling', 'new', 'like', 'joy']\n",
      "Topic 4:  ['like', 'dream', 'journey', 'laughter', 'heart', 'echo', 'joy', 'life', 'time', 'night']\n",
      "Topic 5:  ['new', 'night', 'world', 'nature', 'beauty', 'art', 'time', 'journey', 'laughter', 'life']\n"
     ]
    }
   ],
   "source": [
    "from sklearn.decomposition import LatentDirichletAllocation\n",
    "import numpy as np\n",
    "\n",
    "# Convert text data into a document-term matrix\n",
    "X = vectorizer.fit_transform(text_data)\n",
    "\n",
    "# Apply LDA\n",
    "lda = LatentDirichletAllocation(n_components=5, random_state=42)  # 5 topics\n",
    "lda.fit(X)\n",
    "\n",
    "# Display top words per topic\n",
    "def display_topics(model, feature_names, n_words):\n",
    "    for topic_idx, topic in enumerate(model.components_):\n",
    "        print(f\"Topic {topic_idx + 1}: \", [feature_names[i] for i in topic.argsort()[:-n_words - 1:-1]])\n",
    "\n",
    "display_topics(lda, vectorizer.get_feature_names_out(), 10)\n"
   ]
  },
  {
   "cell_type": "markdown",
   "id": "9d557281-12c2-4251-8358-2633e29cd25b",
   "metadata": {},
   "source": [
    "## Sentiment Trend Analysis ##"
   ]
  },
  {
   "cell_type": "code",
   "execution_count": 29,
   "id": "03d92d55-4ed8-45ec-8b34-a2fb483bb514",
   "metadata": {},
   "outputs": [
    {
     "data": {
      "image/png": "[encoded data removed]",
      "text/plain": [
       "<Figure size 1200x600 with 1 Axes>"
      ]
     },
     "metadata": {},
     "output_type": "display_data"
    }
   ],
   "source": [
    "import matplotlib.pyplot as plt\n",
    "\n",
    "# Group by Year-Month and count sentiments\n",
    "df['Year-Month'] = df['Year'].astype(str) + '-' + df['Month'].astype(str)\n",
    "trend_data = df.groupby(['Year-Month', 'Sentiment_Categorized_Num'])['Sentiment'].count().unstack()\n",
    "\n",
    "# Plot trend\n",
    "trend_data.plot(kind='line', marker='o', figsize=(12,6))\n",
    "plt.title('Sentiment Trend Over Time')\n",
    "plt.xlabel('Year-Month')\n",
    "plt.ylabel('Count')\n",
    "plt.legend(['Neutral', 'Negative', 'Positive'])\n",
    "plt.xticks(rotation=45)\n",
    "plt.grid()\n",
    "plt.show()\n"
   ]
  },
  {
   "cell_type": "markdown",
   "id": "31adb175-f6c6-4991-a082-c818a6226c87",
   "metadata": {},
   "source": [
    "## Dimensionality Reduction with SVD ##"
   ]
  },
  {
   "cell_type": "code",
   "execution_count": 42,
   "id": "552fae0a-5b32-4c6a-aa0e-dfab8a4c1383",
   "metadata": {},
   "outputs": [
    {
     "name": "stdout",
     "output_type": "stream",
     "text": [
      "Explained Variance: 0.82\n"
     ]
    }
   ],
   "source": [
    "from sklearn.feature_extraction.text import TfidfVectorizer\n",
    "from sklearn.decomposition import TruncatedSVD\n",
    "\n",
    "tfidf = TfidfVectorizer(\n",
    "    max_features=1000,    # Increase word coverage\n",
    "    stop_words='english',\n",
    "    min_df=10,            # Lower min_df to capture more words\n",
    "    max_df=0.8,           # Avoid very frequent words\n",
    "    ngram_range=(1,2),    # Include bigrams\n",
    "    sublinear_tf=True     # Scale frequent words\n",
    ")\n",
    "\n",
    "X_tfidf = tfidf.fit_transform(df['processed_text'])\n",
    "# Step 2: Apply Truncated SVD for Dimensionality Reduction\n",
    "svd = TruncatedSVD(n_components=min(50, X_tfidf.shape[1]), random_state=42)  # Reduce dimensions\n",
    "X_reduced = svd.fit_transform(X_tfidf)\n",
    "\n",
    "# Step 3: Check Explained Variance (should be high, like ~90%)\n",
    "explained_variance = svd.explained_variance_ratio_.sum()\n",
    "print(f\"Explained Variance: {explained_variance:.2f}\")"
   ]
  },
  {
   "cell_type": "markdown",
   "id": "0dd33fa6-cddd-4dba-8060-5abd7b554fcd",
   "metadata": {},
   "source": [
    "## Model Building,Model training and Model Evaluation ##"
   ]
  },
  {
   "cell_type": "code",
   "execution_count": 34,
   "id": "ae3a41ab-05c6-48fc-8854-4698b3f2f492",
   "metadata": {},
   "outputs": [],
   "source": [
    "X_train, X_test, y_train, y_test = train_test_split(X_resampled, y_resampled, test_size=0.2, random_state=42)\n"
   ]
  },
  {
   "cell_type": "code",
   "execution_count": 35,
   "id": "c56ce2e0-f46d-489c-accb-035d302ec3f7",
   "metadata": {},
   "outputs": [
    {
     "name": "stdout",
     "output_type": "stream",
     "text": [
      "X_train shape: (914, 50)\n",
      "y_train shape: (914,)\n"
     ]
    }
   ],
   "source": [
    "print(\"X_train shape:\", X_train.shape)\n",
    "print(\"y_train shape:\", y_train.shape)\n"
   ]
  },
  {
   "cell_type": "code",
   "execution_count": 43,
   "id": "8ddaf7f5-4062-4c68-af3b-542eaaa0b654",
   "metadata": {},
   "outputs": [
    {
     "name": "stdout",
     "output_type": "stream",
     "text": [
      "Model Accuracy: 0.7293\n",
      "Classification Report:\n",
      "               precision    recall  f1-score   support\n",
      "\n",
      "           0       0.63      0.89      0.74        71\n",
      "           1       0.83      0.66      0.74        76\n",
      "           2       0.78      0.66      0.72        82\n",
      "\n",
      "    accuracy                           0.73       229\n",
      "   macro avg       0.75      0.73      0.73       229\n",
      "weighted avg       0.75      0.73      0.73       229\n",
      "\n"
     ]
    }
   ],
   "source": [
    "from sklearn.model_selection import train_test_split\n",
    "from sklearn.ensemble import RandomForestClassifier\n",
    "from sklearn.metrics import classification_report, accuracy_score\n",
    "from imblearn.over_sampling import SMOTE\n",
    "\n",
    "# Step 1: Define X (features) and y (target)\n",
    "X = X_reduced\n",
    "y = df['Sentiment_Categorized_Num']  # Assuming 0=Neutral, 1=Negative, 2=Positive\n",
    "\n",
    "# Step 2: Apply SMOTE for balancing classes\n",
    "smote = SMOTE(random_state=42)\n",
    "X_resampled, y_resampled = smote.fit_resample(X, y)\n",
    "\n",
    "# Step 3: Train-test split\n",
    "X_train, X_test, y_train, y_test = train_test_split(X_resampled, y_resampled, test_size=0.2, random_state=42)\n",
    "\n",
    "# Step 4: Train RandomForest Model\n",
    "model = RandomForestClassifier(n_estimators=1000, random_state=42)\n",
    "model.fit(X_train, y_train)\n",
    "\n",
    "# Step 5: Evaluate Model\n",
    "y_pred = model.predict(X_test)\n",
    "accuracy = accuracy_score(y_test, y_pred)\n",
    "print(f\"Model Accuracy: {accuracy:.4f}\")\n",
    "print(\"Classification Report:\\n\", classification_report(y_test, y_pred))\n"
   ]
  },
  {
   "cell_type": "code",
   "execution_count": 44,
   "id": "2905d8bb-1d95-4b07-8173-6b128876f4a2",
   "metadata": {},
   "outputs": [
    {
     "name": "stdout",
     "output_type": "stream",
     "text": [
      "✅ TF-IDF Vectorizer saved successfully!\n"
     ]
    }
   ],
   "source": [
    "import pickle\n",
    "\n",
    "# Save the trained TF-IDF Vectorizer\n",
    "with open(\"tfidf_vectorizer.pkl\", \"wb\") as file:\n",
    "    pickle.dump(tfidf, file)\n",
    "\n",
    "print(\"✅ TF-IDF Vectorizer saved successfully!\")\n"
   ]
  },
  {
   "cell_type": "markdown",
   "id": "ed4c1e67-d18e-4444-9248-e180f674f001",
   "metadata": {},
   "source": [
    "## Hyperparameter tuning using randomized search ##"
   ]
  },
  {
   "cell_type": "code",
   "execution_count": 45,
   "id": "ae10ca4e-79e5-4845-a826-65b50246bb75",
   "metadata": {},
   "outputs": [
    {
     "name": "stdout",
     "output_type": "stream",
     "text": [
      "Fitting 5 folds for each of 20 candidates, totalling 100 fits\n",
      "Best parameters found:  {'n_estimators': 600, 'min_samples_split': 2, 'min_samples_leaf': 1, 'max_depth': 18, 'class_weight': {0: 1.5, 1: 1.2, 2: 2.5}}\n",
      "Optimized Model Accuracy: 0.7293\n",
      "Classification Report:\n",
      "               precision    recall  f1-score   support\n",
      "\n",
      "           0       0.63      0.89      0.74        71\n",
      "           1       0.85      0.67      0.75        76\n",
      "           2       0.77      0.65      0.70        82\n",
      "\n",
      "    accuracy                           0.73       229\n",
      "   macro avg       0.75      0.73      0.73       229\n",
      "weighted avg       0.75      0.73      0.73       229\n",
      "\n"
     ]
    }
   ],
   "source": [
    "from sklearn.model_selection import RandomizedSearchCV\n",
    "from sklearn.ensemble import RandomForestClassifier\n",
    "import numpy as np\n",
    "\n",
    "# Define hyperparameter grid\n",
    "param_dist = {\n",
    "    'n_estimators': [300, 400, 500, 600],\n",
    "    'max_depth': [18, 20, 24, 28],\n",
    "    'min_samples_split': [2, 3, 4, 5],\n",
    "    'min_samples_leaf': [1, 2, 3],\n",
    "    'class_weight': [{0: 1.2, 1: 1.0, 2: 2.0}, {0: 1.5, 1: 1.2, 2: 2.5}]\n",
    "}\n",
    "\n",
    "# Create model\n",
    "rf = RandomForestClassifier(random_state=42)\n",
    "\n",
    "# Randomized Search\n",
    "random_search = RandomizedSearchCV(\n",
    "    estimator=rf,\n",
    "    param_distributions=param_dist,\n",
    "    n_iter=20,  # Try 20 different combinations\n",
    "    cv=5,\n",
    "    scoring='accuracy',\n",
    "    verbose=2,\n",
    "    random_state=42,\n",
    "    n_jobs=-1\n",
    ")\n",
    "\n",
    "# Fit search\n",
    "random_search.fit(X_train, y_train)\n",
    "\n",
    "# Best parameters\n",
    "print(\"Best parameters found: \", random_search.best_params_)\n",
    "\n",
    "# Best model\n",
    "best_rf = random_search.best_estimator_\n",
    "\n",
    "# Evaluate\n",
    "y_pred = best_rf.predict(X_test)\n",
    "accuracy = accuracy_score(y_test, y_pred)\n",
    "print(f\"Optimized Model Accuracy: {accuracy:.4f}\")\n",
    "print(\"Classification Report:\\n\", classification_report(y_test, y_pred))\n"
   ]
  },
  {
   "cell_type": "markdown",
   "id": "3f336ee3-a93a-4b2e-9ca9-b6d50e17ea7c",
   "metadata": {},
   "source": [
    "## Saving the model ##"
   ]
  },
  {
   "cell_type": "code",
   "execution_count": 46,
   "id": "2c6ef5c6-f1d8-45c6-bc96-bfd6f023ebab",
   "metadata": {},
   "outputs": [
    {
     "name": "stdout",
     "output_type": "stream",
     "text": [
      "✅ Model saved successfully!\n"
     ]
    }
   ],
   "source": [
    "import pickle\n",
    "\n",
    "# Define the model save path\n",
    "model_path = \"random_forest_model.pkl\"\n",
    "\n",
    "# Save the model\n",
    "with open(model_path, \"wb\") as file:\n",
    "    pickle.dump(best_rf, file)\n",
    "\n",
    "print(\"✅ Model saved successfully!\")\n"
   ]
  },
  {
   "cell_type": "code",
   "execution_count": 47,
   "id": "7c27a4e6-2080-4ecc-8d9f-25e014fa3451",
   "metadata": {},
   "outputs": [
    {
     "name": "stdout",
     "output_type": "stream",
     "text": [
      "✅ Model loaded successfully!\n"
     ]
    }
   ],
   "source": [
    "import pickle\n",
    "\n",
    "# Load the model\n",
    "model_path = \"random_forest_model.pkl\"\n",
    "\n",
    "try:\n",
    "    with open(model_path, \"rb\") as file:\n",
    "        model = pickle.load(file)\n",
    "    print(\"✅ Model loaded successfully!\")\n",
    "except Exception as e:\n",
    "    print(f\"❌ Error loading model: {e}\")\n"
   ]
  },
  {
   "cell_type": "code",
   "execution_count": null,
   "id": "cfdef4eb-6932-48a8-b8f8-9d92a063a797",
   "metadata": {},
   "outputs": [],
   "source": []
  }
 ],
 "metadata": {
  "kernelspec": {
   "display_name": "Python 3 (ipykernel)",
   "language": "python",
   "name": "python3"
  },
  "language_info": {
   "codemirror_mode": {
    "name": "ipython",
    "version": 3
   },
   "file_extension": ".py",
   "mimetype": "text/x-python",
   "name": "python",
   "nbconvert_exporter": "python",
   "pygments_lexer": "ipython3",
   "version": "3.12.4"
  }
 },
 "nbformat": 4,
 "nbformat_minor": 5
}
